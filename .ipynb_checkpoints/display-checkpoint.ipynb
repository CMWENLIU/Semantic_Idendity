{
 "cells": [
  {
   "cell_type": "code",
   "execution_count": 21,
   "metadata": {},
   "outputs": [],
   "source": [
    "import time\n",
    "import os\n",
    "import pro\n",
    "import pandas as pd\n",
    "import numpy as np\n",
    "from IPython.display import HTML\n",
    "from IPython.display import display\n",
    "from IPython.display import SVG\n",
    "from IPython.display import display_pretty, display_html, display_jpeg, display_png, display_json, display_latex, display_svg\n",
    "from IPython.display import Image\n",
    "import PIL\n",
    "from PIL import Image\n",
    "import matplotlib\n",
    "%matplotlib inline\n",
    "import matplotlib.pyplot as plt"
   ]
  },
  {
   "cell_type": "code",
   "execution_count": 40,
   "metadata": {},
   "outputs": [],
   "source": [
    "class Drug(object):\n",
    "    \"\"\"__init__() functions as the class constructor\"\"\"\n",
    "    def __init__(self, name=None, text=None, label=None):\n",
    "        self.name = name\n",
    "        self.text = text\n",
    "        self.label = label \n",
    "n, t, n_r, t_r = [],[],[],[]"
   ]
  },
  {
   "cell_type": "code",
   "execution_count": 41,
   "metadata": {},
   "outputs": [
    {
     "name": "stdout",
     "output_type": "stream",
     "text": [
      "Totally: 4134 images loaded\n"
     ]
    }
   ],
   "source": [
    "drug_list=[]#list of drugs to store fileName,Text and lablel information\n",
    "with open('all.txt', 'r') as rf:\n",
    "  for line in rf:\n",
    "    split_r = pro.split_fname_texts(line)\n",
    "#     path, name = os.path.split(split_r['name'])\n",
    "#     label = name.split('_', 1)[0]\n",
    "    drug_list.append(Drug(split_r['name'], split_r['text'], split_r['label']))\n",
    "print ('Totally: ' + str(len(drug_list)) + ' images loaded')"
   ]
  },
  {
   "cell_type": "code",
   "execution_count": 48,
   "metadata": {},
   "outputs": [],
   "source": [
    "df = pd.DataFrame([vars(f) for f in drug_list])\n",
    "df.columns = [\"label\", \"name\", \"text\"]\n",
    "# count_fre = pro.frequency_distribution(drug_list)\n",
    "# newdf = pd.DataFrame(list(zip(count_fre.keys(),count_fre.values())), \n",
    "#                columns =['Name', 'val']) \n",
    "# newdf.to_csv('nonopioid.csv')\n",
    "# Following is to draw graph, optional to run\n",
    "#plt.bar(count_fre.keys(),count_fre.values(), label=\"Image number frequency distribution\",\n",
    "#       color='b')\n",
    "#plt.legend()\n",
    "#plt.xlabel('Number of images in unique drug')\n",
    "#plt.ylabel('Frequency')\n",
    "#plt.show()\n",
    "\n",
    "with open('all_label.txt', 'w', encoding='utf-8') as wf:\n",
    "    [wf.write(t + '\\n') for t in df['label'].tolist()]\n",
    "with open('all_name.txt', 'w', encoding='utf-8') as wf:\n",
    "    [wf.write(t + '\\n') for t in df['name'].tolist()]\n",
    "with open('all_text.txt', 'w', encoding='utf-8') as wf:\n",
    "    [wf.write(t) for t in df['text'].tolist()]"
   ]
  },
  {
   "cell_type": "code",
   "execution_count": 18,
   "metadata": {},
   "outputs": [
    {
     "name": "stdout",
     "output_type": "stream",
     "text": [
      "Drugs containing more than images between4 and 6\n",
      "Unique drug number: 473\n",
      "Total images number: 2365\n"
     ]
    }
   ],
   "source": [
    "# To filter data, It is optional to run\n",
    "final_list = pro.frequency(drug_list, 4, 6)#get the records with count more than n\n",
    "print ('Unique drug number: ' + str((len(final_list))))\n",
    "df = df[df['label'].isin(final_list)]\n",
    "print ('Total images number: ' + str(len(df)))\n"
   ]
  },
  {
   "cell_type": "code",
   "execution_count": 19,
   "metadata": {},
   "outputs": [],
   "source": [
    "#It is optional to run for selecting data\n",
    "# with open('data/text_extraction_gcp_nonopioid_mul.txt', 'r') as rf:\n",
    "#     with open('nonopioid_mul.txt', 'w', encoding = 'utf-8') as wf:\n",
    "#         for line in rf:\n",
    "#             split_r = pro.split_fname_texts(line)\n",
    "#             path, name = os.path.split(split_r['name'])\n",
    "#             label = name.split('_', 1)[0]\n",
    "#             if label in final_list:\n",
    "#                 wf.write(line)"
   ]
  },
  {
   "cell_type": "code",
   "execution_count": 39,
   "metadata": {},
   "outputs": [
    {
     "name": "stdout",
     "output_type": "stream",
     "text": [
      "[4, 3]\n",
      "<pandas.core.groupby.generic.DataFrameGroupBy object at 0x7f68a46dd2e8>\n"
     ]
    }
   ],
   "source": [
    "a = [4, 3, 5]\n",
    "a.pop(2)\n",
    "print(a)\n",
    "grouped = df.groupby('label')\n",
    "print(grouped)\n"
   ]
  },
  {
   "cell_type": "code",
   "execution_count": 67,
   "metadata": {},
   "outputs": [
    {
     "name": "stdout",
     "output_type": "stream",
     "text": [
      "Computing similarity score with each records in reference dataset..... \n",
      "\n",
      "...... \n",
      "\n",
      "...... \n",
      "\n",
      "Computing finish!\n"
     ]
    }
   ],
   "source": [
    "print ('Computing similarity score with each records in reference dataset..... \\n')\n",
    "print ('...... \\n')\n",
    "print ('...... \\n')\n",
    "r1, r2, n, t, n_r, t_r= pro.cal_top(df, 15, 1)\n",
    "print ('Computing finish!')"
   ]
  },
  {
   "cell_type": "code",
   "execution_count": 68,
   "metadata": {},
   "outputs": [
    {
     "name": "stdout",
     "output_type": "stream",
     "text": [
      "Following are top score images found:\n"
     ]
    },
    {
     "data": {
      "text/html": [
       "<div>\n",
       "<style scoped>\n",
       "    .dataframe tbody tr th:only-of-type {\n",
       "        vertical-align: middle;\n",
       "    }\n",
       "\n",
       "    .dataframe tbody tr th {\n",
       "        vertical-align: top;\n",
       "    }\n",
       "\n",
       "    .dataframe thead th {\n",
       "        text-align: right;\n",
       "    }\n",
       "</style>\n",
       "<table border=\"1\" class=\"dataframe\">\n",
       "  <thead>\n",
       "    <tr style=\"text-align: right;\">\n",
       "      <th></th>\n",
       "      <th>result_label</th>\n",
       "      <th>result_name</th>\n",
       "      <th>result_score</th>\n",
       "    </tr>\n",
       "  </thead>\n",
       "  <tbody>\n",
       "    <tr>\n",
       "      <th>565</th>\n",
       "      <td>e7b88a48-12b3-461d-b356-0d7ae4e8fd44</td>\n",
       "      <td>e7b88a48-12b3-461d-b356-0d7ae4e8fd44_388_5.jpg</td>\n",
       "      <td>200</td>\n",
       "    </tr>\n",
       "    <tr>\n",
       "      <th>562</th>\n",
       "      <td>e7b88a48-12b3-461d-b356-0d7ae4e8fd44</td>\n",
       "      <td>e7b88a48-12b3-461d-b356-0d7ae4e8fd44_388_2.jpg</td>\n",
       "      <td>166</td>\n",
       "    </tr>\n",
       "    <tr>\n",
       "      <th>563</th>\n",
       "      <td>e7b88a48-12b3-461d-b356-0d7ae4e8fd44</td>\n",
       "      <td>e7b88a48-12b3-461d-b356-0d7ae4e8fd44_388_3.jpg</td>\n",
       "      <td>146</td>\n",
       "    </tr>\n",
       "    <tr>\n",
       "      <th>566</th>\n",
       "      <td>e7b88a48-12b3-461d-b356-0d7ae4e8fd44</td>\n",
       "      <td>e7b88a48-12b3-461d-b356-0d7ae4e8fd44_388_6.jpg</td>\n",
       "      <td>145</td>\n",
       "    </tr>\n",
       "    <tr>\n",
       "      <th>567</th>\n",
       "      <td>e7b88a48-12b3-461d-b356-0d7ae4e8fd44</td>\n",
       "      <td>e7b88a48-12b3-461d-b356-0d7ae4e8fd44_388_7.jpg</td>\n",
       "      <td>143</td>\n",
       "    </tr>\n",
       "    <tr>\n",
       "      <th>561</th>\n",
       "      <td>e7b88a48-12b3-461d-b356-0d7ae4e8fd44</td>\n",
       "      <td>e7b88a48-12b3-461d-b356-0d7ae4e8fd44_388_1.jpg</td>\n",
       "      <td>124</td>\n",
       "    </tr>\n",
       "    <tr>\n",
       "      <th>154</th>\n",
       "      <td>4724dbb4-3613-4e6a-948f-a43d34f97f06</td>\n",
       "      <td>4724dbb4-3613-4e6a-948f-a43d34f97f06_917_5.jpg</td>\n",
       "      <td>124</td>\n",
       "    </tr>\n",
       "    <tr>\n",
       "      <th>150</th>\n",
       "      <td>4724dbb4-3613-4e6a-948f-a43d34f97f06</td>\n",
       "      <td>4724dbb4-3613-4e6a-948f-a43d34f97f06_917_1.jpg</td>\n",
       "      <td>124</td>\n",
       "    </tr>\n",
       "    <tr>\n",
       "      <th>151</th>\n",
       "      <td>4724dbb4-3613-4e6a-948f-a43d34f97f06</td>\n",
       "      <td>4724dbb4-3613-4e6a-948f-a43d34f97f06_917_2.jpg</td>\n",
       "      <td>122</td>\n",
       "    </tr>\n",
       "    <tr>\n",
       "      <th>159</th>\n",
       "      <td>47924917-bbd5-45de-96cb-c7ff9754da97</td>\n",
       "      <td>47924917-bbd5-45de-96cb-c7ff9754da97_236_5.jpg</td>\n",
       "      <td>120</td>\n",
       "    </tr>\n",
       "    <tr>\n",
       "      <th>161</th>\n",
       "      <td>47924917-bbd5-45de-96cb-c7ff9754da97</td>\n",
       "      <td>47924917-bbd5-45de-96cb-c7ff9754da97_236_7.jpg</td>\n",
       "      <td>119</td>\n",
       "    </tr>\n",
       "    <tr>\n",
       "      <th>152</th>\n",
       "      <td>4724dbb4-3613-4e6a-948f-a43d34f97f06</td>\n",
       "      <td>4724dbb4-3613-4e6a-948f-a43d34f97f06_917_3.jpg</td>\n",
       "      <td>119</td>\n",
       "    </tr>\n",
       "    <tr>\n",
       "      <th>155</th>\n",
       "      <td>47924917-bbd5-45de-96cb-c7ff9754da97</td>\n",
       "      <td>47924917-bbd5-45de-96cb-c7ff9754da97_236_1.jpg</td>\n",
       "      <td>117</td>\n",
       "    </tr>\n",
       "    <tr>\n",
       "      <th>157</th>\n",
       "      <td>47924917-bbd5-45de-96cb-c7ff9754da97</td>\n",
       "      <td>47924917-bbd5-45de-96cb-c7ff9754da97_236_3.jpg</td>\n",
       "      <td>114</td>\n",
       "    </tr>\n",
       "    <tr>\n",
       "      <th>564</th>\n",
       "      <td>e7b88a48-12b3-461d-b356-0d7ae4e8fd44</td>\n",
       "      <td>e7b88a48-12b3-461d-b356-0d7ae4e8fd44_388_4.jpg</td>\n",
       "      <td>107</td>\n",
       "    </tr>\n",
       "  </tbody>\n",
       "</table>\n",
       "</div>"
      ],
      "text/plain": [
       "                             result_label  \\\n",
       "565  e7b88a48-12b3-461d-b356-0d7ae4e8fd44   \n",
       "562  e7b88a48-12b3-461d-b356-0d7ae4e8fd44   \n",
       "563  e7b88a48-12b3-461d-b356-0d7ae4e8fd44   \n",
       "566  e7b88a48-12b3-461d-b356-0d7ae4e8fd44   \n",
       "567  e7b88a48-12b3-461d-b356-0d7ae4e8fd44   \n",
       "561  e7b88a48-12b3-461d-b356-0d7ae4e8fd44   \n",
       "154  4724dbb4-3613-4e6a-948f-a43d34f97f06   \n",
       "150  4724dbb4-3613-4e6a-948f-a43d34f97f06   \n",
       "151  4724dbb4-3613-4e6a-948f-a43d34f97f06   \n",
       "159  47924917-bbd5-45de-96cb-c7ff9754da97   \n",
       "161  47924917-bbd5-45de-96cb-c7ff9754da97   \n",
       "152  4724dbb4-3613-4e6a-948f-a43d34f97f06   \n",
       "155  47924917-bbd5-45de-96cb-c7ff9754da97   \n",
       "157  47924917-bbd5-45de-96cb-c7ff9754da97   \n",
       "564  e7b88a48-12b3-461d-b356-0d7ae4e8fd44   \n",
       "\n",
       "                                        result_name  result_score  \n",
       "565  e7b88a48-12b3-461d-b356-0d7ae4e8fd44_388_5.jpg           200  \n",
       "562  e7b88a48-12b3-461d-b356-0d7ae4e8fd44_388_2.jpg           166  \n",
       "563  e7b88a48-12b3-461d-b356-0d7ae4e8fd44_388_3.jpg           146  \n",
       "566  e7b88a48-12b3-461d-b356-0d7ae4e8fd44_388_6.jpg           145  \n",
       "567  e7b88a48-12b3-461d-b356-0d7ae4e8fd44_388_7.jpg           143  \n",
       "561  e7b88a48-12b3-461d-b356-0d7ae4e8fd44_388_1.jpg           124  \n",
       "154  4724dbb4-3613-4e6a-948f-a43d34f97f06_917_5.jpg           124  \n",
       "150  4724dbb4-3613-4e6a-948f-a43d34f97f06_917_1.jpg           124  \n",
       "151  4724dbb4-3613-4e6a-948f-a43d34f97f06_917_2.jpg           122  \n",
       "159  47924917-bbd5-45de-96cb-c7ff9754da97_236_5.jpg           120  \n",
       "161  47924917-bbd5-45de-96cb-c7ff9754da97_236_7.jpg           119  \n",
       "152  4724dbb4-3613-4e6a-948f-a43d34f97f06_917_3.jpg           119  \n",
       "155  47924917-bbd5-45de-96cb-c7ff9754da97_236_1.jpg           117  \n",
       "157  47924917-bbd5-45de-96cb-c7ff9754da97_236_3.jpg           114  \n",
       "564  e7b88a48-12b3-461d-b356-0d7ae4e8fd44_388_4.jpg           107  "
      ]
     },
     "execution_count": 68,
     "metadata": {},
     "output_type": "execute_result"
    }
   ],
   "source": [
    "print ('Following are top score images found:')\n",
    "r1[['result_label', 'result_name','result_score']]"
   ]
  },
  {
   "cell_type": "code",
   "execution_count": 69,
   "metadata": {},
   "outputs": [
    {
     "name": "stdout",
     "output_type": "stream",
     "text": [
      "Following are top candidates found: \n"
     ]
    },
    {
     "data": {
      "text/html": [
       "<div>\n",
       "<style scoped>\n",
       "    .dataframe tbody tr th:only-of-type {\n",
       "        vertical-align: middle;\n",
       "    }\n",
       "\n",
       "    .dataframe tbody tr th {\n",
       "        vertical-align: top;\n",
       "    }\n",
       "\n",
       "    .dataframe thead th {\n",
       "        text-align: right;\n",
       "    }\n",
       "</style>\n",
       "<table border=\"1\" class=\"dataframe\">\n",
       "  <thead>\n",
       "    <tr style=\"text-align: right;\">\n",
       "      <th></th>\n",
       "      <th>result_label</th>\n",
       "      <th>total_score</th>\n",
       "      <th>probability</th>\n",
       "    </tr>\n",
       "  </thead>\n",
       "  <tbody>\n",
       "    <tr>\n",
       "      <th>2</th>\n",
       "      <td>e7b88a48-12b3-461d-b356-0d7ae4e8fd44</td>\n",
       "      <td>1031</td>\n",
       "      <td>0.52</td>\n",
       "    </tr>\n",
       "    <tr>\n",
       "      <th>0</th>\n",
       "      <td>4724dbb4-3613-4e6a-948f-a43d34f97f06</td>\n",
       "      <td>489</td>\n",
       "      <td>0.25</td>\n",
       "    </tr>\n",
       "    <tr>\n",
       "      <th>1</th>\n",
       "      <td>47924917-bbd5-45de-96cb-c7ff9754da97</td>\n",
       "      <td>470</td>\n",
       "      <td>0.24</td>\n",
       "    </tr>\n",
       "  </tbody>\n",
       "</table>\n",
       "</div>"
      ],
      "text/plain": [
       "                           result_label  total_score  probability\n",
       "2  e7b88a48-12b3-461d-b356-0d7ae4e8fd44         1031         0.52\n",
       "0  4724dbb4-3613-4e6a-948f-a43d34f97f06          489         0.25\n",
       "1  47924917-bbd5-45de-96cb-c7ff9754da97          470         0.24"
      ]
     },
     "execution_count": 69,
     "metadata": {},
     "output_type": "execute_result"
    }
   ],
   "source": [
    "print('Following are top candidates found: ')\n",
    "r2"
   ]
  },
  {
   "cell_type": "code",
   "execution_count": 70,
   "metadata": {},
   "outputs": [
    {
     "name": "stdout",
     "output_type": "stream",
     "text": [
      "Extracted Text:  *Each extended-release tablet contains: Distributed by: Minocycline hydrochloride, USP equivalent ~ Aurobindo Pharma USA, Inc. NDC 65352'885'30 to minocycline 105 mg. 279 Princeton-Hightstown Road East Windsor, NJ 08520 Usual Adult Dosage: See package insert. Made in India Rx only = E - KEEP THIS AND ALL MEDICATIONS OUT OF Code: TS/DRUGS/22/2009 Minocycline Hydrochloride geach or chiLoren. Extended-Release Tablets. USP Store at 20° 10 25° (68° to 77°F). [See ;- -~ ----- -~~~ B1422029 .. . o ssoc s | Dispense in tight, light-resistant containers 3 20£588298G9¢€N USP Controlled Room Temperature.] - as defined in the USP. Protect from light, /5 AUROBINDO 30 Tablets moisture, and excessive heat. *Qver Printing Zone & l Coding Area (45 x 15 mm) Dotted lines not to be printed\n",
      "\n"
     ]
    },
    {
     "data": {
      "image/png": "[encoded data removed]",
      "text/plain": [
       "<Figure size 432x288 with 1 Axes>"
      ]
     },
     "metadata": {
      "needs_background": "light"
     },
     "output_type": "display_data"
    }
   ],
   "source": [
    "img = Image.open(os.path.join('data/images/', n[0]))\n",
    "plt.figure()\n",
    "plt.title('This is the test image')\n",
    "plt.imshow(img)\n",
    "print('Extracted Text: ' + t[0])"
   ]
  },
  {
   "cell_type": "code",
   "execution_count": 71,
   "metadata": {
    "scrolled": false
   },
   "outputs": [
    {
     "name": "stdout",
     "output_type": "stream",
     "text": [
      "Following are the top images found\n"
     ]
    },
    {
     "data": {
      "text/html": [
       "<img src=\"data/images/e7b88a48-12b3-461d-b356-0d7ae4e8fd44_388_5.jpg\" width=\"350\" style=\"border:2px solid black\"><p>Extracted Text:  *Each extended-release tablet contains: Distributed by: Minocycline hydrochloride, USP equivalent ~ Aurobindo Pharma USA, Inc. NDC 65352'885'30 to minocycline 105 mg. 279 Princeton-Hightstown Road East Windsor, NJ 08520 Usual Adult Dosage: See package insert. Made in India Rx only = E - KEEP THIS AND ALL MEDICATIONS OUT OF Code: TS/DRUGS/22/2009 Minocycline Hydrochloride geach or chiLoren. Extended-Release Tablets. USP Store at 20° 10 25° (68° to 77°F). [See ;- -~ ----- -~~~ B1422029 .. . o ssoc s | Dispense in tight, light-resistant containers 3 20£588298G9¢€N USP Controlled Room Temperature.] - as defined in the USP. Protect from light, /5 AUROBINDO 30 Tablets moisture, and excessive heat. *Qver Printing Zone & l Coding Area (45 x 15 mm) Dotted lines not to be printed\n",
       "</p><hr style=\"height:1px\"/><img src=\"data/images/e7b88a48-12b3-461d-b356-0d7ae4e8fd44_388_2.jpg\" width=\"350\" style=\"border:2px solid black\"><p>Extracted Text:  *Each extended-release tablet contains: Distributed by: Minocycline hydrochloride, USP equivalent to Aurobindo Pharma USA, Inc. 4 i minocycline 65 mg. 279 Princeton-Hightstown Road L e 555 S East Windsor, NJ 08520 Usual Adult Dosage: See package insert. Made in India Rx-nnly = = KEEP THIS AND ALL MEDICATIONS OUT OF Code: TS/DRUGS/22/2009 Minocycline Hydrochloride REAcH OF CHILDREN. Extended-Release Store at 20° to 25°C (68° to 77°F). [See USP , ______________ BASI 765 e oy Tablets, USP Gontrolled Room Temperature.] m Dispense in tight, light-resistant containers as defined in the USP. Protect from light, /52 AUROBINDO 30 Tablets moisture, and excessive heat. *Qver Printing Zone E l Coding Area (45 x15 mm) Dotted lines not to be printed\n",
       "</p><hr style=\"height:1px\"/><img src=\"data/images/e7b88a48-12b3-461d-b356-0d7ae4e8fd44_388_3.jpg\" width=\"350\" style=\"border:2px solid black\"><p>Extracted Text:  *Each extended-release tablet contains: Distributed by: o Minocycline hydrochloride, USP equivalent ~ Aurobindo Pharma USA, Inc. o NDC 65852'884'30 to minocycline 80 mg. 279 Princeton-Hightstown Road ol Usual Adult Dosage: See package insert. East Wingsor RV & . ; Rx only Contains FD&G Yellow No.6 as a color hasc it il Minocycline Hydrochlotide v . SrlpEa 8 ! V/ Y KEEP THIS AND ALL MEDICATIONS OUT OF an Extended-Release REACH OF CHILDREN. s Tableis, USP Store at 20° to 25°C (68° to 77°F). [See ;’7;”7777””77777777777\"7”””7””‘; o I ) USP Controlled Room Temperature.] i i Dispense in tight, light-resistant containers | as defined in the USP. Protect from light, i i 52 AUROBINDO 30 Tablets moisture, and excessive heat. | | i i I *Qver Printing Zone . l Coding Area (45x15 mm) Dotted lines not to be printed\n",
       "</p><hr style=\"height:1px\"/><img src=\"data/images/e7b88a48-12b3-461d-b356-0d7ae4e8fd44_388_6.jpg\" width=\"350\" style=\"border:2px solid black\"><p>Extracted Text:  NDC 65862-557-30 Rx only Minocycline Hydrochloride Extended-Release Tabhlets, USP /52 AUROBINDO 30 Tablets *Each extended-release tablet contains: Distributed by: Minocycline hydrochloride, USP equivalent to Aurobindo Pharma USA, Inc. minocycline 115 mg. 279 Princeton-Hightstown Road East Windsor, NJ 08520 Usual Adult Dosage: See package insert. Made in India KEEP THIS AND ALL MEDICATIONS OUT OF Code: TS/DRUGS/22/2009 REACH OF CHILDREN. 80£.6529859EN Store at 20° to 25°C (68° to 77°F). [See USP , -~ _________ B e Controlled Room Temperature.] Dispense in tight, light-resistant containers as defined in the USP. Protect from light, moisture, and excessive heat. *Qver Printing Zone Coding Area (45x15 mm) Dotted lines not to be printed\n",
       "</p><hr style=\"height:1px\"/><img src=\"data/images/e7b88a48-12b3-461d-b356-0d7ae4e8fd44_388_7.jpg\" width=\"350\" style=\"border:2px solid black\"><p>Extracted Text:  *Each extended:-release tablet contains: Distributed by: NDC 65862-558-30 Minocycline hydrochloride, USP Aurobindo Pharma USA, Inc. equivalent to minocycline 135 mg. 279 Princeton-Hightstown Road East Windsor, NJ 08520 Usual Adult Dosage: See package insert. Rx only o Made in India i \" : KEEP THIS AND ALL MEDICATIONS Minocycline Hydrochloride OUT OF REACH OF CHILDREN, Co0% TS/DRUGS/22/2009 Extended-Release Tablets, USP = 7 S (R B USP Gortrolled Room Temperature] 2= = == =S TS T oo o s mmmm oo ¥ 1 Dispense in tight, light-resistant | containers as defined in the USP. ! 1 1 1 S0£85529859EN s Protect from light, moisture, and /52 AUROBINDO 30 Tablets excessive heat. *Over Printing Zone Coding Area (45x 15 mm)\n",
       "</p><hr style=\"height:1px\"/><img src=\"data/images/e7b88a48-12b3-461d-b356-0d7ae4e8fd44_388_1.jpg\" width=\"350\" style=\"border:2px solid black\"><p>Extracted Text:  “Each _extended-release _tablel Distributed by: NG 65862-554-30 contains: inocyciine hydrochloride, Aurobindo Pharma USA, Inc. USP equialenfo mnocycine 45, 379 princon: Hightstown Road Usual Adut Dosage: See package Lot W1ndsor 08520 insert. Made in India KEEP THIS AND ALL MEDICATIONS Minocycline Hydrochloride OUT OF REACH OF CHILDREN, U°0®: TSDRUGS/222009 Extended-Release Tablets, USP oeaprozcesoms pis20043 ) emperature. | % Rx only | I I Dispense i tight, light-resistant | i ontaners s daiid n the USP | i rotect from ligh, mosture, an 30 Tablets excessive heat. | | *Over Printing Zone Coding Area (@5 %15 mm)\n",
       "</p><hr style=\"height:1px\"/><img src=\"data/images/4724dbb4-3613-4e6a-948f-a43d34f97f06_917_5.jpg\" width=\"350\" style=\"border:2px solid black\"><p>Extracted Text:  Each film-coated tablet contains: Distributed by: X ki 80 mg of simvastatin USP. Aurobindo Pharma USA, Inc. NDC 65862 054 30 279 Princeton-Hightstown Road East Windsor, NJ 08520 Usual Adult Dosage: See package insert for Dosage and Administration. Rx only Code: TS/DRUGS/22/2009 - - ‘Store at 20° to 25°C (68° to 7°F); excursions Simvastatin Tablets, USP pemited to 15° to 30° (50° o 86°F) [see USP Controlled Room Temperature] G i Pharmacist: Dispense in a tight, light-resistant | container as defined in the USP, with a | Made in India 20£960298G69 &N /9 AUROBINDO 30 Tablets child-resistant closure (as fequired). “Over Printing Zone Coding Area (#5x 15 mm) Dotted fines not to be printed\n",
       "</p><hr style=\"height:1px\"/><img src=\"data/images/4724dbb4-3613-4e6a-948f-a43d34f97f06_917_1.jpg\" width=\"350\" style=\"border:2px solid black\"><p>Extracted Text:  Each filn-coated tablet contains: Distributed by: | 7 5 mg of simvastatin USP. Aurobindo Pharma USA, Inc. nDc 65862-050-30 279 Princeton-Hightstown Road East Windsor, NJ 08520 Usual Adult Dosage: See package insert $0£05029859EN for Dosage and Administration. Made in India Rxonly Code: TS/DRUGS/22/2009 . . Store at 20° to 25°C (68° to 77°F); excursions Simvastatin Tablets, USP pemited to 15° o 30°c (59° to 86°F) [see P1421547 * m USP Controlled Room Terperature] Pharmacist: Dispense ina tight, lightresistant | N container as defined inthe USP, vitha : /2 AUROBINDO 30 Tablets child-resistant closure (as requied). i “Over Printing Zone Coding Area (@5 15 mm) Dotted lines ot to be printed\n",
       "</p><hr style=\"height:1px\"/><img src=\"data/images/4724dbb4-3613-4e6a-948f-a43d34f97f06_917_2.jpg\" width=\"350\" style=\"border:2px solid black\"><p>Extracted Text:  Each filn-coated tablet contains: Distributed by: ol g 10 mg of simvastatin USP. Aurobindo Pharma USA, Inc. NDC 65862 051 30 279 Princeton-Hightstown Road East Windsor, NJ 08520 Usual Adult Dosage: See package insert L0E1S029859¢N for Dosage and Administration. Made in India ] Rx only Code: TS/DRUGS/22/2009 . . Store at 20° to 25°C (68° to 77°F); excursions Simvastatin Tablets, USP permited o 15° to 30° (50° o 86°) [s2e P1421555 USP Controlled Room Temperature] 10 mg container as defined in the USP, with a /5 AUROBINDO 30 Tablets child-resistant closure (as required). Pharmacist: Dispense n atight,light-resistant | “Over Printing Zone Caiing ks (@5 15 mm) Dotted lines ot to be printed\n",
       "</p><hr style=\"height:1px\"/><img src=\"data/images/47924917-bbd5-45de-96cb-c7ff9754da97_236_5.jpg\" width=\"350\" style=\"border:2px solid black\"><p>Extracted Text:  *Each film-coated tablet contains: Distributed by: NDC 65862-295-30 Rosuvastatin calcium equivalent to Aurobindo Pharma USA, Inc. rosuvastatin 20 mo. 279 Princeton-Hightstown Road East Windsor, NJ 08520 Usual Dosage: See accompanying Rx only Presoribing Information. Made in India, B s Code: TS/DRUGS/191993 WARNING: As with all medications, Rosuvastatin Calcium keep out ofthe reach of chidren. Tablets Store at 20° o 25°C (68° to 77°F); m excursions permitted to 15° 0 30°C (59° to 86°F) [see USP Controlled Room Temperature]. Protect from 9 AUROBINDO 30 Tablets moisture *Over Printing Zone Coding Area (@515 mm) Dotted ines not to be printed\n",
       "</p><hr style=\"height:1px\"/><img src=\"data/images/47924917-bbd5-45de-96cb-c7ff9754da97_236_7.jpg\" width=\"350\" style=\"border:2px solid black\"><p>Extracted Text:  *Each film-coated tablet contains: Distributed by: NDC 65862-296-30 Rosuvastatin calcium equivalent to Aurobindo Pharma USA, Inc. rosuvastatin 40 mg 279 Princeton-Hightstown Road East Windsor, NJ 08520 Usual Dosage: See accompanying Rx only Prescibing Information Made in Indiz 5 < Code: TS/DRUGS/191993 WARNING: As with all medications, Rosuvastatin Calcium keep out ofthe reach of children. - P1421614 5 Tablets Store at 20°t0 25° (68° 1o 77°F); m excursions permited to 15°10 30°C (59°to B6°F)[see USP Gontrolled Room Temperature]. Protect from /2 AUROBINDO 30 Tablets moisture. *Over Printing Zone Coding Area (#5x15mm) Doted ines not o be printed\n",
       "</p><hr style=\"height:1px\"/><img src=\"data/images/4724dbb4-3613-4e6a-948f-a43d34f97f06_917_3.jpg\" width=\"350\" style=\"border:2px solid black\"><p>Extracted Text:  Each film-coated tablet contains: Distributed by: - NDG 65862-052.30 20 ma of simastatin USP: Aurobindo Pharma USA, Inc. = 279 Princeton-Hightstown Road — East Windsor, N 08520 Usual Adult Dosage: See package insert 80£26029869&N for Dosage and Administration. Made in India Rx only Code: TS/DRUGS/22/2009 . . ‘Store at 20° to 25°C (68° to 77°F); excursions Simvastatin Tablets, USP pemited o 15° to 30° (50° o 86° fs2e 1421562 m USP Controlled Room Temperature]. Pharmacist: Dispense n atght,light-resistant | container as defined in the USP, with a /9 AUROBINDO 30 Tablets child-resistant closure (as required). *Over Printing Zone Sadinghia (@5 15 mm) Dotted lines ot to be printed\n",
       "</p><hr style=\"height:1px\"/><img src=\"data/images/47924917-bbd5-45de-96cb-c7ff9754da97_236_1.jpg\" width=\"350\" style=\"border:2px solid black\"><p>Extracted Text:  *Each film-coated tablet contains: Distributed by: NDC 65862-293-30 Rosuastati calcium equivalentto Aurobindo Pharma USA, Inc. fosuvastatin 5 o, 279 Princeton-Hightstown Road East Windsor, NJ 08520 Usual Dosage: See accompanying Rx only Prescibing Informtion Made in Indiz 0 i 'WARNING: As with all medications, Rosuvastatin Calcium keep out ofthe reach of children. Tablets Store at 20° to 25°C (66° to 77°F); - excursions permited t0 15°10 30°C | (59° 10 85°F)[see USP Controlled | Code: TS/DAUGS/191993 Room Temperature]. Potect from /5 AUROBINDO 30 Tablets moisture. Over Printing Zone Coding Area (é5x 15 mm) Dotted fines notto be printed\n",
       "</p><hr style=\"height:1px\"/><img src=\"data/images/47924917-bbd5-45de-96cb-c7ff9754da97_236_3.jpg\" width=\"350\" style=\"border:2px solid black\"><p>Extracted Text:  *Each film-coated tablet contains: Distributed by: NDC 65862-294-30 Rosuvastatin calcium equivalent to Aurobindo Pharma USA, Inc. rosuvastatin 10 mo, 279 Princeton-Hightstown Road East Windsor, NJ 08520 Usual Dosage: See zccompanying Rx only Presoribing Information. Made in India i i WARNING: As with ll medications, Rosuvastatin Caleium 0% 50 reiens - P1521602 = Tablets Store at 20° 0 25°C (66° to 77°F); m excursions permitted t0 15°10 30°C | (5810 86°F) [see USP Controlled | Code: TS/DAUGS/191993 Room Temperature]. Potect from OBINDO 30 Tablets moisture. “ver Printing Zone . Coding Area (45 15 mm) Dotted nes notfo be printed\n",
       "</p><hr style=\"height:1px\"/><img src=\"data/images/e7b88a48-12b3-461d-b356-0d7ae4e8fd44_388_4.jpg\" width=\"350\" style=\"border:2px solid black\"><p>Extracted Text:  Rx only “Each _exlended-release _tablet NDG 65862-556-30 contains: Minocycine hydrochloride, USP equivalent to minocycine 90 m. Usual Adult Dosay insert. : See package KEEP THIS AND ALL MEDICATIONS Minocycline Hydrochloride OUT OF REACH OF CHILDREN. Extended-Release Tablets, USP stwre at 20 0 257 e o 77, /52 AUROBINDO See ~ USP Controlled Room emperature ] Dispense in tight, light-resistant 'c)nn‘tau;e;s as ‘ns,:\\‘r\\en msg‘m US; roect from light, moisture, an 30 Tablets excassive heat. Distributed by: Aurobindo Pharma USA, inc. 279 Princaton-Hightstown Road East Windsor, NJ 08520 Made in India Code: TS/DRUGS/22/2009 L05955298C9EN P1420046 *Over Printing Zone Coding Area (45x 15 mm)\n",
       "</p><hr style=\"height:1px\"/>"
      ],
      "text/plain": [
       "<IPython.core.display.HTML object>"
      ]
     },
     "execution_count": 71,
     "metadata": {},
     "output_type": "execute_result"
    }
   ],
   "source": [
    "print ('Following are the top images found')\n",
    "s = ''\n",
    "for i,val in enumerate(n_r):\n",
    "    path = os.path.join('data/images/', val)\n",
    "    s += '<img src=\"' + path + '\" width=\"350\" style=\"border:2px solid black\">'\n",
    "    s += '<p>' + 'Extracted Text: ' + t_r[i] + '</p>' + '<hr style=\"height:1px\"/>'\n",
    "h = HTML(s); h"
   ]
  },
  {
   "cell_type": "code",
   "execution_count": null,
   "metadata": {},
   "outputs": [],
   "source": []
  }
 ],
 "metadata": {
  "kernelspec": {
   "display_name": "Python 3",
   "language": "python",
   "name": "python3"
  },
  "language_info": {
   "codemirror_mode": {
    "name": "ipython",
    "version": 3
   },
   "file_extension": ".py",
   "mimetype": "text/x-python",
   "name": "python",
   "nbconvert_exporter": "python",
   "pygments_lexer": "ipython3",
   "version": "3.6.7"
  }
 },
 "nbformat": 4,
 "nbformat_minor": 2
}
